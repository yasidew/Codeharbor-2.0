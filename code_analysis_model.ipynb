{
  "nbformat": 4,
  "nbformat_minor": 0,
  "metadata": {
    "colab": {
      "provenance": [],
      "gpuType": "T4",
      "authorship_tag": "ABX9TyOfpbquQBH2Xa64noY9uLC5",
      "include_colab_link": true
    },
    "kernelspec": {
      "name": "python3",
      "display_name": "Python 3"
    },
    "language_info": {
      "name": "python"
    },
    "accelerator": "GPU"
  },
  "cells": [
    {
      "cell_type": "markdown",
      "metadata": {
        "id": "view-in-github",
        "colab_type": "text"
      },
      "source": [
        "<a href=\"https://colab.research.google.com/github/yasidew/Codeharbor-2.0/blob/feature%2Fcode-analysis/code_analysis_model.ipynb\" target=\"_parent\"><img src=\"https://colab.research.google.com/assets/colab-badge.svg\" alt=\"Open In Colab\"/></a>"
      ]
    },
    {
      "cell_type": "code",
      "execution_count": null,
      "metadata": {
        "colab": {
          "base_uri": "https://localhost:8080/"
        },
        "id": "2QhMoEtzQ2z1",
        "outputId": "306c9c4d-e932-49c5-84e2-45bbd40db0ac"
      },
      "outputs": [
        {
          "output_type": "stream",
          "name": "stdout",
          "text": [
            "Requirement already satisfied: transformers in /usr/local/lib/python3.10/dist-packages (4.46.2)\n",
            "Collecting datasets\n",
            "  Downloading datasets-3.1.0-py3-none-any.whl.metadata (20 kB)\n",
            "Requirement already satisfied: filelock in /usr/local/lib/python3.10/dist-packages (from transformers) (3.16.1)\n",
            "Requirement already satisfied: huggingface-hub<1.0,>=0.23.2 in /usr/local/lib/python3.10/dist-packages (from transformers) (0.26.2)\n",
            "Requirement already satisfied: numpy>=1.17 in /usr/local/lib/python3.10/dist-packages (from transformers) (1.26.4)\n",
            "Requirement already satisfied: packaging>=20.0 in /usr/local/lib/python3.10/dist-packages (from transformers) (24.2)\n",
            "Requirement already satisfied: pyyaml>=5.1 in /usr/local/lib/python3.10/dist-packages (from transformers) (6.0.2)\n",
            "Requirement already satisfied: regex!=2019.12.17 in /usr/local/lib/python3.10/dist-packages (from transformers) (2024.9.11)\n",
            "Requirement already satisfied: requests in /usr/local/lib/python3.10/dist-packages (from transformers) (2.32.3)\n",
            "Requirement already satisfied: safetensors>=0.4.1 in /usr/local/lib/python3.10/dist-packages (from transformers) (0.4.5)\n",
            "Requirement already satisfied: tokenizers<0.21,>=0.20 in /usr/local/lib/python3.10/dist-packages (from transformers) (0.20.3)\n",
            "Requirement already satisfied: tqdm>=4.27 in /usr/local/lib/python3.10/dist-packages (from transformers) (4.66.6)\n",
            "Requirement already satisfied: pyarrow>=15.0.0 in /usr/local/lib/python3.10/dist-packages (from datasets) (17.0.0)\n",
            "Collecting dill<0.3.9,>=0.3.0 (from datasets)\n",
            "  Downloading dill-0.3.8-py3-none-any.whl.metadata (10 kB)\n",
            "Requirement already satisfied: pandas in /usr/local/lib/python3.10/dist-packages (from datasets) (2.2.2)\n",
            "Collecting xxhash (from datasets)\n",
            "  Downloading xxhash-3.5.0-cp310-cp310-manylinux_2_17_x86_64.manylinux2014_x86_64.whl.metadata (12 kB)\n",
            "Collecting multiprocess<0.70.17 (from datasets)\n",
            "  Downloading multiprocess-0.70.16-py310-none-any.whl.metadata (7.2 kB)\n",
            "Collecting fsspec<=2024.9.0,>=2023.1.0 (from fsspec[http]<=2024.9.0,>=2023.1.0->datasets)\n",
            "  Downloading fsspec-2024.9.0-py3-none-any.whl.metadata (11 kB)\n",
            "Requirement already satisfied: aiohttp in /usr/local/lib/python3.10/dist-packages (from datasets) (3.11.2)\n",
            "Requirement already satisfied: aiohappyeyeballs>=2.3.0 in /usr/local/lib/python3.10/dist-packages (from aiohttp->datasets) (2.4.3)\n",
            "Requirement already satisfied: aiosignal>=1.1.2 in /usr/local/lib/python3.10/dist-packages (from aiohttp->datasets) (1.3.1)\n",
            "Requirement already satisfied: attrs>=17.3.0 in /usr/local/lib/python3.10/dist-packages (from aiohttp->datasets) (24.2.0)\n",
            "Requirement already satisfied: frozenlist>=1.1.1 in /usr/local/lib/python3.10/dist-packages (from aiohttp->datasets) (1.5.0)\n",
            "Requirement already satisfied: multidict<7.0,>=4.5 in /usr/local/lib/python3.10/dist-packages (from aiohttp->datasets) (6.1.0)\n",
            "Requirement already satisfied: propcache>=0.2.0 in /usr/local/lib/python3.10/dist-packages (from aiohttp->datasets) (0.2.0)\n",
            "Requirement already satisfied: yarl<2.0,>=1.17.0 in /usr/local/lib/python3.10/dist-packages (from aiohttp->datasets) (1.17.2)\n",
            "Requirement already satisfied: async-timeout<6.0,>=4.0 in /usr/local/lib/python3.10/dist-packages (from aiohttp->datasets) (4.0.3)\n",
            "Requirement already satisfied: typing-extensions>=3.7.4.3 in /usr/local/lib/python3.10/dist-packages (from huggingface-hub<1.0,>=0.23.2->transformers) (4.12.2)\n",
            "Requirement already satisfied: charset-normalizer<4,>=2 in /usr/local/lib/python3.10/dist-packages (from requests->transformers) (3.4.0)\n",
            "Requirement already satisfied: idna<4,>=2.5 in /usr/local/lib/python3.10/dist-packages (from requests->transformers) (3.10)\n",
            "Requirement already satisfied: urllib3<3,>=1.21.1 in /usr/local/lib/python3.10/dist-packages (from requests->transformers) (2.2.3)\n",
            "Requirement already satisfied: certifi>=2017.4.17 in /usr/local/lib/python3.10/dist-packages (from requests->transformers) (2024.8.30)\n",
            "Requirement already satisfied: python-dateutil>=2.8.2 in /usr/local/lib/python3.10/dist-packages (from pandas->datasets) (2.8.2)\n",
            "Requirement already satisfied: pytz>=2020.1 in /usr/local/lib/python3.10/dist-packages (from pandas->datasets) (2024.2)\n",
            "Requirement already satisfied: tzdata>=2022.7 in /usr/local/lib/python3.10/dist-packages (from pandas->datasets) (2024.2)\n",
            "Requirement already satisfied: six>=1.5 in /usr/local/lib/python3.10/dist-packages (from python-dateutil>=2.8.2->pandas->datasets) (1.16.0)\n",
            "Downloading datasets-3.1.0-py3-none-any.whl (480 kB)\n",
            "\u001b[2K   \u001b[90m━━━━━━━━━━━━━━━━━━━━━━━━━━━━━━━━━━━━━━━━\u001b[0m \u001b[32m480.6/480.6 kB\u001b[0m \u001b[31m8.9 MB/s\u001b[0m eta \u001b[36m0:00:00\u001b[0m\n",
            "\u001b[?25hDownloading dill-0.3.8-py3-none-any.whl (116 kB)\n",
            "\u001b[2K   \u001b[90m━━━━━━━━━━━━━━━━━━━━━━━━━━━━━━━━━━━━━━━━\u001b[0m \u001b[32m116.3/116.3 kB\u001b[0m \u001b[31m13.6 MB/s\u001b[0m eta \u001b[36m0:00:00\u001b[0m\n",
            "\u001b[?25hDownloading fsspec-2024.9.0-py3-none-any.whl (179 kB)\n",
            "\u001b[2K   \u001b[90m━━━━━━━━━━━━━━━━━━━━━━━━━━━━━━━━━━━━━━━━\u001b[0m \u001b[32m179.3/179.3 kB\u001b[0m \u001b[31m21.1 MB/s\u001b[0m eta \u001b[36m0:00:00\u001b[0m\n",
            "\u001b[?25hDownloading multiprocess-0.70.16-py310-none-any.whl (134 kB)\n",
            "\u001b[2K   \u001b[90m━━━━━━━━━━━━━━━━━━━━━━━━━━━━━━━━━━━━━━━━\u001b[0m \u001b[32m134.8/134.8 kB\u001b[0m \u001b[31m16.7 MB/s\u001b[0m eta \u001b[36m0:00:00\u001b[0m\n",
            "\u001b[?25hDownloading xxhash-3.5.0-cp310-cp310-manylinux_2_17_x86_64.manylinux2014_x86_64.whl (194 kB)\n",
            "\u001b[2K   \u001b[90m━━━━━━━━━━━━━━━━━━━━━━━━━━━━━━━━━━━━━━━━\u001b[0m \u001b[32m194.1/194.1 kB\u001b[0m \u001b[31m22.6 MB/s\u001b[0m eta \u001b[36m0:00:00\u001b[0m\n",
            "\u001b[?25hInstalling collected packages: xxhash, fsspec, dill, multiprocess, datasets\n",
            "  Attempting uninstall: fsspec\n",
            "    Found existing installation: fsspec 2024.10.0\n",
            "    Uninstalling fsspec-2024.10.0:\n",
            "      Successfully uninstalled fsspec-2024.10.0\n",
            "\u001b[31mERROR: pip's dependency resolver does not currently take into account all the packages that are installed. This behaviour is the source of the following dependency conflicts.\n",
            "gcsfs 2024.10.0 requires fsspec==2024.10.0, but you have fsspec 2024.9.0 which is incompatible.\u001b[0m\u001b[31m\n",
            "\u001b[0mSuccessfully installed datasets-3.1.0 dill-0.3.8 fsspec-2024.9.0 multiprocess-0.70.16 xxhash-3.5.0\n"
          ]
        }
      ],
      "source": [
        "!pip install transformers datasets"
      ]
    },
    {
      "cell_type": "code",
      "source": [
        "!python preprocess.py"
      ],
      "metadata": {
        "colab": {
          "base_uri": "https://localhost:8080/"
        },
        "id": "6XRkDuicR95d",
        "outputId": "a24db4bf-44a5-4555-ebd9-eab0cc7f2a2f"
      },
      "execution_count": 15,
      "outputs": [
        {
          "output_type": "stream",
          "name": "stdout",
          "text": [
            "Loading dataset from: custom_dataset.json\n",
            "Train dataset size: 1200\n",
            "Test dataset size: 300\n",
            "Data before tokenization: {'func': ['def unused_variable():\\n    x = 10\\n    return 5', 'def risky_eval(data):\\n    return eval(data)', \"def sql_injection(user_input):\\n    query = 'SELECT * FROM users WHERE name = ' + user_input\\n    return query\"], 'target': ['No specific issue detected.', 'Avoid using eval as it can execute arbitrary code. Use ast.literal_eval for safer parsing.', 'Avoid string concatenation in SQL queries. Use parameterized queries to prevent SQL injection.']}\n",
            "Map: 100% 1200/1200 [00:00<00:00, 2887.87 examples/s]\n",
            "Data after tokenization: {'input_ids': tensor([[    1,   536, 10197,  ...,     0,     0,     0],\n",
            "        [    1,   536, 18404,  ...,     0,     0,     0],\n",
            "        [    1,   536,  1847,  ...,     0,     0,     0]]), 'attention_mask': tensor([[1, 1, 1,  ..., 0, 0, 0],\n",
            "        [1, 1, 1,  ..., 0, 0, 0],\n",
            "        [1, 1, 1,  ..., 0, 0, 0]]), 'labels': tensor([[    1,  2279,  2923,  5672,  8316,    18,     2,     0,     0,     0,\n",
            "             0,     0,     0,     0,     0,     0,     0,     0,     0,     0,\n",
            "             0,     0,     0,     0,     0,     0,     0,     0,     0,     0,\n",
            "             0,     0,     0,     0,     0,     0,     0,     0,     0,     0,\n",
            "             0,     0,     0,     0,     0,     0,     0,     0,     0,     0,\n",
            "             0,     0,     0,     0,     0,     0,     0,     0,     0,     0,\n",
            "             0,     0,     0,     0,     0,     0,     0,     0,     0,     0,\n",
            "             0,     0,     0,     0,     0,     0,     0,     0,     0,     0,\n",
            "             0,     0,     0,     0,     0,     0,     0,     0,     0,     0,\n",
            "             0,     0,     0,     0,     0,     0,     0,     0,     0,     0,\n",
            "             0,     0,     0,     0,     0,     0,     0,     0,     0,     0,\n",
            "             0,     0,     0,     0,     0,     0,     0,     0,     0,     0,\n",
            "             0,     0,     0,     0,     0,     0,     0,     0],\n",
            "        [    1,  3769,   839,  1450,  5302,   487,   518,   848,  1836, 11078,\n",
            "           981,    18,  2672,  3364,    18, 13107,    67,  8622,   364,  7864,\n",
            "           586,  5811,    18,     2,     0,     0,     0,     0,     0,     0,\n",
            "             0,     0,     0,     0,     0,     0,     0,     0,     0,     0,\n",
            "             0,     0,     0,     0,     0,     0,     0,     0,     0,     0,\n",
            "             0,     0,     0,     0,     0,     0,     0,     0,     0,     0,\n",
            "             0,     0,     0,     0,     0,     0,     0,     0,     0,     0,\n",
            "             0,     0,     0,     0,     0,     0,     0,     0,     0,     0,\n",
            "             0,     0,     0,     0,     0,     0,     0,     0,     0,     0,\n",
            "             0,     0,     0,     0,     0,     0,     0,     0,     0,     0,\n",
            "             0,     0,     0,     0,     0,     0,     0,     0,     0,     0,\n",
            "             0,     0,     0,     0,     0,     0,     0,     0,     0,     0,\n",
            "             0,     0,     0,     0,     0,     0,     0,     0],\n",
            "        [    1,  3769,   839,   533, 26833,   316,  3063,  6218,    18,  2672,\n",
            "         17629,  6218,   358,  5309,  3063, 10380,    18,     2,     0,     0,\n",
            "             0,     0,     0,     0,     0,     0,     0,     0,     0,     0,\n",
            "             0,     0,     0,     0,     0,     0,     0,     0,     0,     0,\n",
            "             0,     0,     0,     0,     0,     0,     0,     0,     0,     0,\n",
            "             0,     0,     0,     0,     0,     0,     0,     0,     0,     0,\n",
            "             0,     0,     0,     0,     0,     0,     0,     0,     0,     0,\n",
            "             0,     0,     0,     0,     0,     0,     0,     0,     0,     0,\n",
            "             0,     0,     0,     0,     0,     0,     0,     0,     0,     0,\n",
            "             0,     0,     0,     0,     0,     0,     0,     0,     0,     0,\n",
            "             0,     0,     0,     0,     0,     0,     0,     0,     0,     0,\n",
            "             0,     0,     0,     0,     0,     0,     0,     0,     0,     0,\n",
            "             0,     0,     0,     0,     0,     0,     0,     0]])}\n",
            "Data before tokenization: {'func': ['def risky_eval(data):\\n    return eval(data)', \"def sql_injection(user_input):\\n    query = 'SELECT * FROM users WHERE name = ' + user_input\\n    return query\", \"def sql_injection(user_input):\\n    query = 'SELECT * FROM users WHERE name = ' + user_input\\n    return query\"], 'target': ['Avoid using eval as it can execute arbitrary code. Use ast.literal_eval for safer parsing.', 'Avoid string concatenation in SQL queries. Use parameterized queries to prevent SQL injection.', 'Avoid string concatenation in SQL queries. Use parameterized queries to prevent SQL injection.']}\n",
            "Map: 100% 300/300 [00:00<00:00, 3254.69 examples/s]\n",
            "Data after tokenization: {'input_ids': tensor([[    1,   536, 18404,  ...,     0,     0,     0],\n",
            "        [    1,   536,  1847,  ...,     0,     0,     0],\n",
            "        [    1,   536,  1847,  ...,     0,     0,     0]]), 'attention_mask': tensor([[1, 1, 1,  ..., 0, 0, 0],\n",
            "        [1, 1, 1,  ..., 0, 0, 0],\n",
            "        [1, 1, 1,  ..., 0, 0, 0]]), 'labels': tensor([[    1,  3769,   839,  1450,  5302,   487,   518,   848,  1836, 11078,\n",
            "           981,    18,  2672,  3364,    18, 13107,    67,  8622,   364,  7864,\n",
            "           586,  5811,    18,     2,     0,     0,     0,     0,     0,     0,\n",
            "             0,     0,     0,     0,     0,     0,     0,     0,     0,     0,\n",
            "             0,     0,     0,     0,     0,     0,     0,     0,     0,     0,\n",
            "             0,     0,     0,     0,     0,     0,     0,     0,     0,     0,\n",
            "             0,     0,     0,     0,     0,     0,     0,     0,     0,     0,\n",
            "             0,     0,     0,     0,     0,     0,     0,     0,     0,     0,\n",
            "             0,     0,     0,     0,     0,     0,     0,     0,     0,     0,\n",
            "             0,     0,     0,     0,     0,     0,     0,     0,     0,     0,\n",
            "             0,     0,     0,     0,     0,     0,     0,     0,     0,     0,\n",
            "             0,     0,     0,     0,     0,     0,     0,     0,     0,     0,\n",
            "             0,     0,     0,     0,     0,     0,     0,     0],\n",
            "        [    1,  3769,   839,   533, 26833,   316,  3063,  6218,    18,  2672,\n",
            "         17629,  6218,   358,  5309,  3063, 10380,    18,     2,     0,     0,\n",
            "             0,     0,     0,     0,     0,     0,     0,     0,     0,     0,\n",
            "             0,     0,     0,     0,     0,     0,     0,     0,     0,     0,\n",
            "             0,     0,     0,     0,     0,     0,     0,     0,     0,     0,\n",
            "             0,     0,     0,     0,     0,     0,     0,     0,     0,     0,\n",
            "             0,     0,     0,     0,     0,     0,     0,     0,     0,     0,\n",
            "             0,     0,     0,     0,     0,     0,     0,     0,     0,     0,\n",
            "             0,     0,     0,     0,     0,     0,     0,     0,     0,     0,\n",
            "             0,     0,     0,     0,     0,     0,     0,     0,     0,     0,\n",
            "             0,     0,     0,     0,     0,     0,     0,     0,     0,     0,\n",
            "             0,     0,     0,     0,     0,     0,     0,     0,     0,     0,\n",
            "             0,     0,     0,     0,     0,     0,     0,     0],\n",
            "        [    1,  3769,   839,   533, 26833,   316,  3063,  6218,    18,  2672,\n",
            "         17629,  6218,   358,  5309,  3063, 10380,    18,     2,     0,     0,\n",
            "             0,     0,     0,     0,     0,     0,     0,     0,     0,     0,\n",
            "             0,     0,     0,     0,     0,     0,     0,     0,     0,     0,\n",
            "             0,     0,     0,     0,     0,     0,     0,     0,     0,     0,\n",
            "             0,     0,     0,     0,     0,     0,     0,     0,     0,     0,\n",
            "             0,     0,     0,     0,     0,     0,     0,     0,     0,     0,\n",
            "             0,     0,     0,     0,     0,     0,     0,     0,     0,     0,\n",
            "             0,     0,     0,     0,     0,     0,     0,     0,     0,     0,\n",
            "             0,     0,     0,     0,     0,     0,     0,     0,     0,     0,\n",
            "             0,     0,     0,     0,     0,     0,     0,     0,     0,     0,\n",
            "             0,     0,     0,     0,     0,     0,     0,     0,     0,     0,\n",
            "             0,     0,     0,     0,     0,     0,     0,     0]])}\n",
            "Creating json from Arrow format: 100% 2/2 [00:00<00:00, 18.39ba/s]\n",
            "Creating json from Arrow format: 100% 1/1 [00:00<00:00, 38.61ba/s]\n",
            "Processed data saved at: dataset/processed_data\n"
          ]
        }
      ]
    },
    {
      "cell_type": "code",
      "source": [
        "!python train_model.py"
      ],
      "metadata": {
        "colab": {
          "base_uri": "https://localhost:8080/"
        },
        "id": "rcNCeTeKU22t",
        "outputId": "8ece5d1a-ff46-4276-bc6d-095f7e104b44"
      },
      "execution_count": 18,
      "outputs": [
        {
          "output_type": "stream",
          "name": "stdout",
          "text": [
            "2024-12-01 02:53:38.662776: E external/local_xla/xla/stream_executor/cuda/cuda_fft.cc:485] Unable to register cuFFT factory: Attempting to register factory for plugin cuFFT when one has already been registered\n",
            "2024-12-01 02:53:38.696108: E external/local_xla/xla/stream_executor/cuda/cuda_dnn.cc:8454] Unable to register cuDNN factory: Attempting to register factory for plugin cuDNN when one has already been registered\n",
            "2024-12-01 02:53:38.706535: E external/local_xla/xla/stream_executor/cuda/cuda_blas.cc:1452] Unable to register cuBLAS factory: Attempting to register factory for plugin cuBLAS when one has already been registered\n",
            "2024-12-01 02:53:38.732379: I tensorflow/core/platform/cpu_feature_guard.cc:210] This TensorFlow binary is optimized to use available CPU instructions in performance-critical operations.\n",
            "To enable the following instructions: AVX2 FMA, in other operations, rebuild TensorFlow with the appropriate compiler flags.\n",
            "2024-12-01 02:53:39.979092: W tensorflow/compiler/tf2tensorrt/utils/py_utils.cc:38] TF-TRT Warning: Could not find TensorRT\n",
            "Generating train split: 1200 examples [00:00, 9604.29 examples/s]\n",
            "Map: 100% 1200/1200 [00:00<00:00, 1813.14 examples/s]\n",
            "Generating train split: 300 examples [00:00, 10863.45 examples/s]\n",
            "Map: 100% 300/300 [00:00<00:00, 3244.74 examples/s]\n",
            "Passing a tuple of `past_key_values` is deprecated and will be removed in Transformers v4.48.0. You should pass an instance of `EncoderDecoderCache` instead, e.g. `past_key_values=EncoderDecoderCache.from_legacy_cache(past_key_values)`.\n",
            "Epoch 1/6 Loss: 0.060689693715600394\n",
            "Epoch 2/6 Loss: 7.784333743378132e-05\n",
            "Epoch 3/6 Loss: 0.00011584489218572951\n",
            "Epoch 4/6 Loss: 3.565159940080776e-05\n",
            "Epoch 5/6 Loss: 1.7370851737723568e-05\n",
            "Epoch 6/6 Loss: 1.4645433057770182e-05\n",
            "Evaluating model on test dataset...\n",
            "Input Code: def risky_eval(data):\n",
            "    return eval(data)\n",
            "Generated Suggestion: Avoid using eval as it can execute arbitrary code. Use ast.literal_eval for safer parsing.\n",
            "Ground Truth Suggestion: Avoid using eval as it can execute arbitrary code. Use ast.literal_eval for safer parsing.\n",
            "\n",
            "Input Code: def sql_injection(user_input):\n",
            "    query = 'SELECT * FROM users WHERE name = ' + user_input\n",
            "    return query\n",
            "Generated Suggestion: Avoid string concatenation in SQL queries. Use parameterized queries to prevent SQL injection.\n",
            "Ground Truth Suggestion: Avoid string concatenation in SQL queries. Use parameterized queries to prevent SQL injection.\n",
            "\n",
            "Input Code: def sql_injection(user_input):\n",
            "    query = 'SELECT * FROM users WHERE name = ' + user_input\n",
            "    return query\n",
            "Generated Suggestion: Avoid string concatenation in SQL queries. Use parameterized queries to prevent SQL injection.\n",
            "Ground Truth Suggestion: Avoid string concatenation in SQL queries. Use parameterized queries to prevent SQL injection.\n",
            "\n",
            "Input Code: def sql_injection(user_input):\n",
            "    query = 'SELECT * FROM users WHERE name = ' + user_input\n",
            "    return query\n",
            "Generated Suggestion: Avoid string concatenation in SQL queries. Use parameterized queries to prevent SQL injection.\n",
            "Ground Truth Suggestion: Avoid string concatenation in SQL queries. Use parameterized queries to prevent SQL injection.\n",
            "\n",
            "Input Code: def sql_injection(user_input):\n",
            "    query = 'SELECT * FROM users WHERE name = ' + user_input\n",
            "    return query\n",
            "Generated Suggestion: Avoid string concatenation in SQL queries. Use parameterized queries to prevent SQL injection.\n",
            "Ground Truth Suggestion: Avoid string concatenation in SQL queries. Use parameterized queries to prevent SQL injection.\n",
            "\n"
          ]
        }
      ]
    },
    {
      "cell_type": "code",
      "source": [
        "!pip install nltk rouge-score scikit-learn\n"
      ],
      "metadata": {
        "colab": {
          "base_uri": "https://localhost:8080/"
        },
        "id": "3SBVSNcuOv53",
        "outputId": "263a05f8-46d8-4224-8180-0b882e75c900"
      },
      "execution_count": 19,
      "outputs": [
        {
          "output_type": "stream",
          "name": "stdout",
          "text": [
            "Requirement already satisfied: nltk in /usr/local/lib/python3.10/dist-packages (3.9.1)\n",
            "Collecting rouge-score\n",
            "  Downloading rouge_score-0.1.2.tar.gz (17 kB)\n",
            "  Preparing metadata (setup.py) ... \u001b[?25l\u001b[?25hdone\n",
            "Requirement already satisfied: scikit-learn in /usr/local/lib/python3.10/dist-packages (1.5.2)\n",
            "Requirement already satisfied: click in /usr/local/lib/python3.10/dist-packages (from nltk) (8.1.7)\n",
            "Requirement already satisfied: joblib in /usr/local/lib/python3.10/dist-packages (from nltk) (1.4.2)\n",
            "Requirement already satisfied: regex>=2021.8.3 in /usr/local/lib/python3.10/dist-packages (from nltk) (2024.9.11)\n",
            "Requirement already satisfied: tqdm in /usr/local/lib/python3.10/dist-packages (from nltk) (4.66.6)\n",
            "Requirement already satisfied: absl-py in /usr/local/lib/python3.10/dist-packages (from rouge-score) (1.4.0)\n",
            "Requirement already satisfied: numpy in /usr/local/lib/python3.10/dist-packages (from rouge-score) (1.26.4)\n",
            "Requirement already satisfied: six>=1.14.0 in /usr/local/lib/python3.10/dist-packages (from rouge-score) (1.16.0)\n",
            "Requirement already satisfied: scipy>=1.6.0 in /usr/local/lib/python3.10/dist-packages (from scikit-learn) (1.13.1)\n",
            "Requirement already satisfied: threadpoolctl>=3.1.0 in /usr/local/lib/python3.10/dist-packages (from scikit-learn) (3.5.0)\n",
            "Building wheels for collected packages: rouge-score\n",
            "  Building wheel for rouge-score (setup.py) ... \u001b[?25l\u001b[?25hdone\n",
            "  Created wheel for rouge-score: filename=rouge_score-0.1.2-py3-none-any.whl size=24935 sha256=099291daeea763de0fcabe3692863b39ad5cbcf00b93f473ee8551db0db5bf90\n",
            "  Stored in directory: /root/.cache/pip/wheels/5f/dd/89/461065a73be61a532ff8599a28e9beef17985c9e9c31e541b4\n",
            "Successfully built rouge-score\n",
            "Installing collected packages: rouge-score\n",
            "Successfully installed rouge-score-0.1.2\n"
          ]
        }
      ]
    },
    {
      "cell_type": "code",
      "source": [
        "!python train_model.py"
      ],
      "metadata": {
        "colab": {
          "base_uri": "https://localhost:8080/"
        },
        "id": "tAqkW3yFSfxf",
        "outputId": "a958b651-7550-428f-b068-075bd6ddf135"
      },
      "execution_count": 26,
      "outputs": [
        {
          "output_type": "stream",
          "name": "stdout",
          "text": [
            "2024-12-01 03:36:34.341914: E external/local_xla/xla/stream_executor/cuda/cuda_fft.cc:485] Unable to register cuFFT factory: Attempting to register factory for plugin cuFFT when one has already been registered\n",
            "2024-12-01 03:36:34.365831: E external/local_xla/xla/stream_executor/cuda/cuda_dnn.cc:8454] Unable to register cuDNN factory: Attempting to register factory for plugin cuDNN when one has already been registered\n",
            "2024-12-01 03:36:34.372326: E external/local_xla/xla/stream_executor/cuda/cuda_blas.cc:1452] Unable to register cuBLAS factory: Attempting to register factory for plugin cuBLAS when one has already been registered\n",
            "2024-12-01 03:36:34.388037: I tensorflow/core/platform/cpu_feature_guard.cc:210] This TensorFlow binary is optimized to use available CPU instructions in performance-critical operations.\n",
            "To enable the following instructions: AVX2 FMA, in other operations, rebuild TensorFlow with the appropriate compiler flags.\n",
            "2024-12-01 03:36:35.763020: W tensorflow/compiler/tf2tensorrt/utils/py_utils.cc:38] TF-TRT Warning: Could not find TensorRT\n",
            "Map: 100% 300/300 [00:00<00:00, 2444.01 examples/s]\n",
            "Passing a tuple of `past_key_values` is deprecated and will be removed in Transformers v4.48.0. You should pass an instance of `EncoderDecoderCache` instead, e.g. `past_key_values=EncoderDecoderCache.from_legacy_cache(past_key_values)`.\n",
            "Epoch 1/6 Loss: 0.061541608807698746\n",
            "Epoch 2/6 Loss: 6.725034920539959e-05\n",
            "Epoch 3/6 Loss: 2.5698499873669787e-05\n",
            "Epoch 4/6 Loss: 4.8646384233658564e-05\n",
            "Epoch 5/6 Loss: 1.6031680183535475e-05\n",
            "Epoch 6/6 Loss: 0.00011179913365064446\n",
            "Evaluating model on test dataset...\n",
            "Precision: 1.0000\n",
            "Recall: 1.0000\n",
            "F1 Score: 1.0000\n",
            "Input Code: def risky_eval(data):\n",
            "    return eval(data)\n",
            "Generated Suggestion: Avoid using eval as it can execute arbitrary code. Use ast.literal_eval for safer parsing.\n",
            "Ground Truth Suggestion: Avoid using eval as it can execute arbitrary code. Use ast.literal_eval for safer parsing.\n",
            "\n",
            "Input Code: def sql_injection(user_input):\n",
            "    query = 'SELECT * FROM users WHERE name = ' + user_input\n",
            "    return query\n",
            "Generated Suggestion: Avoid string concatenation in SQL queries. Use parameterized queries to prevent SQL injection.\n",
            "Ground Truth Suggestion: Avoid string concatenation in SQL queries. Use parameterized queries to prevent SQL injection.\n",
            "\n",
            "Input Code: def sql_injection(user_input):\n",
            "    query = 'SELECT * FROM users WHERE name = ' + user_input\n",
            "    return query\n",
            "Generated Suggestion: Avoid string concatenation in SQL queries. Use parameterized queries to prevent SQL injection.\n",
            "Ground Truth Suggestion: Avoid string concatenation in SQL queries. Use parameterized queries to prevent SQL injection.\n",
            "\n",
            "Input Code: def sql_injection(user_input):\n",
            "    query = 'SELECT * FROM users WHERE name = ' + user_input\n",
            "    return query\n",
            "Generated Suggestion: Avoid string concatenation in SQL queries. Use parameterized queries to prevent SQL injection.\n",
            "Ground Truth Suggestion: Avoid string concatenation in SQL queries. Use parameterized queries to prevent SQL injection.\n",
            "\n",
            "Input Code: def sql_injection(user_input):\n",
            "    query = 'SELECT * FROM users WHERE name = ' + user_input\n",
            "    return query\n",
            "Generated Suggestion: Avoid string concatenation in SQL queries. Use parameterized queries to prevent SQL injection.\n",
            "Ground Truth Suggestion: Avoid string concatenation in SQL queries. Use parameterized queries to prevent SQL injection.\n",
            "\n"
          ]
        }
      ]
    },
    {
      "cell_type": "code",
      "source": [
        "!zip -r model.zip /content/models/custom_seq2seq_model"
      ],
      "metadata": {
        "colab": {
          "base_uri": "https://localhost:8080/"
        },
        "id": "srSYoLeRXxUK",
        "outputId": "766154ce-431b-44ad-e67e-dccef705ce1c"
      },
      "execution_count": 29,
      "outputs": [
        {
          "output_type": "stream",
          "name": "stdout",
          "text": [
            "  adding: content/models/custom_seq2seq_model/ (stored 0%)\n",
            "  adding: content/models/custom_seq2seq_model/tokenizer_config.json (deflated 94%)\n",
            "  adding: content/models/custom_seq2seq_model/special_tokens_map.json (deflated 97%)\n",
            "  adding: content/models/custom_seq2seq_model/tokenizer.json (deflated 82%)\n",
            "  adding: content/models/custom_seq2seq_model/merges.txt (deflated 54%)\n",
            "  adding: content/models/custom_seq2seq_model/vocab.json (deflated 59%)\n",
            "  adding: content/models/custom_seq2seq_model/model.safetensors (deflated 7%)\n",
            "  adding: content/models/custom_seq2seq_model/config.json (deflated 61%)\n",
            "  adding: content/models/custom_seq2seq_model/generation_config.json (deflated 33%)\n"
          ]
        }
      ]
    },
    {
      "cell_type": "code",
      "source": [
        "!python test_model.py"
      ],
      "metadata": {
        "colab": {
          "base_uri": "https://localhost:8080/"
        },
        "id": "qrcmk7mBZwt5",
        "outputId": "c79650b4-a7fb-4367-c278-fd926d9a0442"
      },
      "execution_count": 30,
      "outputs": [
        {
          "output_type": "stream",
          "name": "stdout",
          "text": [
            "2024-12-01 04:20:42.723406: E external/local_xla/xla/stream_executor/cuda/cuda_fft.cc:485] Unable to register cuFFT factory: Attempting to register factory for plugin cuFFT when one has already been registered\n",
            "2024-12-01 04:20:42.744259: E external/local_xla/xla/stream_executor/cuda/cuda_dnn.cc:8454] Unable to register cuDNN factory: Attempting to register factory for plugin cuDNN when one has already been registered\n",
            "2024-12-01 04:20:42.750342: E external/local_xla/xla/stream_executor/cuda/cuda_blas.cc:1452] Unable to register cuBLAS factory: Attempting to register factory for plugin cuBLAS when one has already been registered\n",
            "2024-12-01 04:20:42.765477: I tensorflow/core/platform/cpu_feature_guard.cc:210] This TensorFlow binary is optimized to use available CPU instructions in performance-critical operations.\n",
            "To enable the following instructions: AVX2 FMA, in other operations, rebuild TensorFlow with the appropriate compiler flags.\n",
            "2024-12-01 04:20:43.956924: W tensorflow/compiler/tf2tensorrt/utils/py_utils.cc:38] TF-TRT Warning: Could not find TensorRT\n",
            "Code Snippet: eval(user_input)\n",
            "Suggestions: Avoid using eval as it can execute arbitrary code. Use ast.literal_eval for safer parsing.\n",
            "\n",
            "Code Snippet: os.system('rm -rf /')\n",
            "Suggestions: No specific issue detected.\n",
            "\n",
            "Code Snippet: query = 'SELECT * FROM users WHERE name = ' + user_input\n",
            "Suggestions: Avoid string concatenation in SQL queries. Use parameterized queries to prevent SQL injection.\n",
            "\n",
            "Code Snippet: print('Hello, world!')\n",
            "Suggestions: No specific issue detected.\n",
            "\n"
          ]
        }
      ]
    }
  ]
}